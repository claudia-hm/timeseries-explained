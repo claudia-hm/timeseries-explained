{
 "cells": [
  {
   "cell_type": "markdown",
   "id": "8c60bfea",
   "metadata": {},
   "source": [
    "# Mann-Kendall's test: detecting trends"
   ]
  },
  {
   "cell_type": "markdown",
   "id": "2054c835",
   "metadata": {},
   "source": [
    "Mann-Kendall trend test is used to perceive statistically significant decreasing or increasing trend in long term temporal data. It is a nonparametric test, so it is applicable to all distributions. "
   ]
  },
  {
   "cell_type": "markdown",
   "id": "5db531c6",
   "metadata": {},
   "source": [
    "References:\n",
    "*  Wang F, Shao W, Yu H, Kan G, He X, Zhang D, Ren M and Wang G (2020) Re-evaluation of the Power of the Mann-Kendall Test for Detecting Monotonic Trends in Hydrometeorological Time Series. Front. Earth Sci. 8:14. doi: 10.3389/feart.2020.00014\n",
    "* Prashanth Khambhammettu: ”Mann-Kendall Analysis for the Fort Ord Site”, HydroGeoLogic, Inc.-OU-1 2004 Annual Groundwater Monitoring Report-Former Fort Ord, California, 2005 (last accessed 03/11/2021 at https://www.statisticshowto.com/wp-content/uploads/2016/08/Mann-Kendall-Analysis-1.pdf)"
   ]
  },
  {
   "cell_type": "markdown",
   "id": "01d732eb",
   "metadata": {},
   "source": [
    "### Imports"
   ]
  },
  {
   "cell_type": "code",
   "execution_count": 1,
   "id": "ba6438e6",
   "metadata": {},
   "outputs": [],
   "source": [
    "import numpy as np\n",
    "from scipy import stats\n",
    "import matplotlib.pyplot as plt"
   ]
  },
  {
   "cell_type": "markdown",
   "id": "043ff6b3",
   "metadata": {},
   "source": [
    "### Functions"
   ]
  },
  {
   "cell_type": "markdown",
   "id": "8f2d0423",
   "metadata": {},
   "source": [
    "For computing the MK's statistic we need to compute indicator function $sgn(y_i−y_j)$ :\n",
    "\n",
    "$\\begin{split}sgn(y_i - y_j) &=\n",
    "    \\begin{cases}\n",
    "                    1,  & y_i - y_j > 0\\\\\n",
    "                    0,  & y_i - y_j = 0\\\\\n",
    "                    -1, & y_i - y_j < 0\n",
    "    \\end{cases},\\end{split}$\n",
    "\n",
    "which tells us whether the difference between the measurements at time i and j are positive, negative or zero."
   ]
  },
  {
   "cell_type": "code",
   "execution_count": 2,
   "id": "c2b7606c",
   "metadata": {},
   "outputs": [],
   "source": [
    "def sgn(yi,yj, precision=3):\n",
    "    epsilon = 10**-precision\n",
    "    diff = yi - yj\n",
    "    if diff > epsilon:\n",
    "        return 1\n",
    "    elif diff < - epsilon:\n",
    "        return -1\n",
    "    else:\n",
    "        return 0"
   ]
  },
  {
   "cell_type": "markdown",
   "id": "65b309dd",
   "metadata": {},
   "source": [
    "Let $y_1, y_2, .., y_n$   represent $n$ data points where $y_j$  represents the data point at time $j$.  Then the Mann-Kendall statistic ($S$) is given by:\n",
    "$$ S = \\sum_{k=1}^{n-1} \\sum_{j=k+1}^{n} sgn(y_j - y_k)$$"
   ]
  },
  {
   "cell_type": "code",
   "execution_count": 3,
   "id": "b9f0a75b",
   "metadata": {},
   "outputs": [],
   "source": [
    "def MK_statistic(y, precision=3):\n",
    "    n = len(y)\n",
    "    mean = 0\n",
    "    for i in range(n-1):\n",
    "        for j in range(i+1,n):\n",
    "            mean +=sgn(y[j],y[i], precision)\n",
    "    return mean"
   ]
  },
  {
   "cell_type": "markdown",
   "id": "3a0a03bf",
   "metadata": {},
   "source": [
    "The null hypothesis, H0, states that there is no monotonic trend, and this is tested against one of three possible alternative hypotheses, Ha: (i) there is an upward monotonic trend, (ii) there is a downward monotonic trend, or (iii) there is either an upward monotonic trend or a downward monotonic trend. A  very  high  positive  value  of  S  is  an  indicator  of  an  increasing  trend,  and  a  very  low  negative value indicates a decreasing trend.\n",
    "\n",
    "**Assumptions**\n",
    "1. In the absence of a trend, the data are independently and identically distributed (iid).\n",
    "\n",
    "2. The measurements represent the true states of the observables at the times of measurements.\n",
    "\n",
    "3. The methods used for sample collection, instrumental measurements and data handling are unbiased"
   ]
  },
  {
   "cell_type": "markdown",
   "id": "cb96bd59",
   "metadata": {},
   "source": [
    "Once we have the test statistic, we need to compute the probability associated with  $S$  and  the  sample  size,  $n$,  to  statistically  quantify  the  significance  of  the  trend. To do so, we follow the next steps:\n",
    "1. Compute the variance of $S$ as:\n",
    "$$ VAR(S) = \\frac{1}{18} \\left[n(n-1)(2n+5)- \\sum_{p=1}^{g} t_p (t_p-1)(2t_p+5) \\right]$$"
   ]
  },
  {
   "cell_type": "code",
   "execution_count": 4,
   "id": "ad416a1e",
   "metadata": {},
   "outputs": [],
   "source": [
    "def var_S(y, precision=3):\n",
    "    n = len(y)\n",
    "    unique, t = np.unique(np.round(y,precision), return_counts=True)\n",
    "    g = len(unique)\n",
    "    sum_unique = 0\n",
    "    for p in range(g):\n",
    "        sum_unique += t[p]*(t[p]-1)*(2*t[p]+5)\n",
    "    return (n*(n-1)*(2*n+5)-sum_unique)/18"
   ]
  },
  {
   "cell_type": "markdown",
   "id": "bc964e10",
   "metadata": {},
   "source": [
    "2. Compute a normalized test statistic Z from Mann-Kendall's test statistic using the following formula:\n"
   ]
  },
  {
   "cell_type": "markdown",
   "id": "944df874",
   "metadata": {},
   "source": [
    "$\\begin{split}Z &=\n",
    "    \\begin{cases}\n",
    "                    \\frac{S-1}{[VAR(S)]^{1/2}},  & S > 0\\\\\n",
    "                    \\frac{S+1}{[VAR(S)]^{1/2}},  & S < 0\\\\\n",
    "                    0,  & S = 0\\\\\n",
    "    \\end{cases},\\end{split}$"
   ]
  },
  {
   "cell_type": "code",
   "execution_count": 5,
   "id": "7a3678ed",
   "metadata": {},
   "outputs": [],
   "source": [
    "def MK_standard(S, var, precision=3):\n",
    "    epsilon = 10**-precision\n",
    "    if S > epsilon:\n",
    "        return (S -1)/np.sqrt(var)\n",
    "    elif S < - epsilon:\n",
    "        return (S+1)/np.sqrt(var)\n",
    "    else:\n",
    "        return 0"
   ]
  },
  {
   "cell_type": "markdown",
   "id": "4cdf40c2",
   "metadata": {},
   "source": [
    "The standardized MK statistic Z follows the standard normal distribution with E(Z) = 0 and V(Z) = 1, and the null hypothesis (no trend) is rejected if the absolute value of Z is larger than the theoretical value \n",
    "$Z_{1−\\alpha/2}$ (for two-tailed test). If we reject the null hypothesis, we can obtain the direction of the trend (increasing/decreasing) by inspecting the sign of the standardized Mann-Kendall test statistic Z."
   ]
  },
  {
   "cell_type": "code",
   "execution_count": 6,
   "id": "242cfa86",
   "metadata": {},
   "outputs": [],
   "source": [
    "def mk_test(y, x=None, alpha = 0.05):\n",
    "    \n",
    "    if x is None:\n",
    "        x = np.arange(len(y))\n",
    "    \n",
    "    # Compute Mann Kendalls's test statistc\n",
    "    S = MK_statistic(y)\n",
    "    var = var_S(y)\n",
    "    z = MK_standard(S, var)\n",
    "    trend = abs(z) > stats.norm.ppf(1-alpha/2)\n",
    "\n",
    "    if (z < 0) and trend:\n",
    "        trend = 'decreasing'\n",
    "    elif (z > 0) and trend:\n",
    "        trend = 'increasing'\n",
    "    else:\n",
    "        trend = 'no trend'\n",
    "    \n",
    "    return trend"
   ]
  },
  {
   "cell_type": "markdown",
   "id": "9225e8d0",
   "metadata": {},
   "source": [
    "### Examples"
   ]
  },
  {
   "cell_type": "code",
   "execution_count": 7,
   "id": "ca3adc21",
   "metadata": {},
   "outputs": [
    {
     "data": {
      "image/png": "[encoded data removed]",
      "text/plain": [
       "<Figure size 432x288 with 1 Axes>"
      ]
     },
     "metadata": {
      "needs_background": "light"
     },
     "output_type": "display_data"
    },
    {
     "data": {
      "text/plain": [
       "'increasing'"
      ]
     },
     "execution_count": 7,
     "metadata": {},
     "output_type": "execute_result"
    }
   ],
   "source": [
    "N = 100\n",
    "y1 = np.random.normal(0,1,N)\n",
    "breakpoint = np.random.randint(N)\n",
    "slope = np.random.uniform(0,1)\n",
    "y1 = y1 + slope*np.arange(N)\n",
    "plt.plot(y1)\n",
    "plt.show()\n",
    "mk_test(y1)"
   ]
  },
  {
   "cell_type": "code",
   "execution_count": 8,
   "id": "249e2e5a",
   "metadata": {},
   "outputs": [
    {
     "data": {
      "image/png": "[encoded data removed]",
      "text/plain": [
       "<Figure size 432x288 with 1 Axes>"
      ]
     },
     "metadata": {
      "needs_background": "light"
     },
     "output_type": "display_data"
    },
    {
     "data": {
      "text/plain": [
       "'decreasing'"
      ]
     },
     "execution_count": 8,
     "metadata": {},
     "output_type": "execute_result"
    }
   ],
   "source": [
    "N = 100\n",
    "y2 = np.random.normal(0,1,N)\n",
    "breakpoint = np.random.randint(N)\n",
    "slope = -np.random.uniform(0.5,1)\n",
    "y2 = y2 + slope*np.arange(N)\n",
    "plt.plot(y2)\n",
    "plt.show()\n",
    "mk_test(y2)"
   ]
  },
  {
   "cell_type": "code",
   "execution_count": 9,
   "id": "59c9fb5d",
   "metadata": {},
   "outputs": [
    {
     "data": {
      "image/png": "[encoded data removed]",
      "text/plain": [
       "<Figure size 432x288 with 1 Axes>"
      ]
     },
     "metadata": {
      "needs_background": "light"
     },
     "output_type": "display_data"
    },
    {
     "data": {
      "text/plain": [
       "'no trend'"
      ]
     },
     "execution_count": 9,
     "metadata": {},
     "output_type": "execute_result"
    }
   ],
   "source": [
    "y3 = np.random.normal(0,1,N)\n",
    "plt.plot(y3)\n",
    "plt.show()\n",
    "mk_test(y3)"
   ]
  },
  {
   "cell_type": "markdown",
   "id": "d7dfef72",
   "metadata": {},
   "source": [
    "References:\n",
    "*  Wang F, Shao W, Yu H, Kan G, He X, Zhang D, Ren M and Wang G (2020) Re-evaluation of the Power of the Mann-Kendall Test for Detecting Monotonic Trends in Hydrometeorological Time Series. Front. Earth Sci. 8:14. doi: 10.3389/feart.2020.00014\n",
    "* Prashanth Khambhammettu: ”Mann-Kendall Analysis for the Fort Ord Site”, HydroGeoLogic, Inc.-OU-1 2004 Annual Groundwater Monitoring Report-Former Fort Ord, California, 2005 (last accessed 03/11/2021 at https://www.statisticshowto.com/wp-content/uploads/2016/08/Mann-Kendall-Analysis-1.pdf)"
   ]
  }
 ],
 "metadata": {
  "kernelspec": {
   "display_name": "Python 3 (ipykernel)",
   "language": "python",
   "name": "python3"
  },
  "language_info": {
   "codemirror_mode": {
    "name": "ipython",
    "version": 3
   },
   "file_extension": ".py",
   "mimetype": "text/x-python",
   "name": "python",
   "nbconvert_exporter": "python",
   "pygments_lexer": "ipython3",
   "version": "3.8.10"
  }
 },
 "nbformat": 4,
 "nbformat_minor": 5
}
